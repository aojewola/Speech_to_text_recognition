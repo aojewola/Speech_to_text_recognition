{
 "cells": [
  {
   "cell_type": "code",
   "execution_count": 1,
   "metadata": {},
   "outputs": [],
   "source": [
    "import speech_recognition as sr\n",
    "import time"
   ]
  },
  {
   "cell_type": "code",
   "execution_count": 4,
   "metadata": {},
   "outputs": [
    {
     "name": "stdout",
     "output_type": "stream",
     "text": [
      "Hey there! Say Something\n",
      "Google recognizer think you said\n",
      "how you doing how are you doing today can you do something for me\n",
      "Your runtime is 211.25518918037415\n"
     ]
    }
   ],
   "source": [
    "t1 = time.time()\n",
    "\n",
    "recognizer = sr.Recognizer() \n",
    "\n",
    "with sr.Microphone() as source:\n",
    "    print(\"Hey there! Say Something\")\n",
    "    audio = recognizer.listen(source)\n",
    "print(\"Google recognizer think you said\")\n",
    "\n",
    "try:\n",
    "    print(recognizer.recognize_google(audio))\n",
    "\n",
    "except sr.UnknownValueError:\n",
    "    print(\"Unrecognize audio\")\n",
    "\n",
    "\n",
    "print(\"Your runtime is\", time.time() - t1) # To keep track of the runtime \n",
    "\n",
    "if \"Hello\" in recognizer.recognize_google(audio):\n",
    "    print(\"Hi, What's up with you today?\")"
   ]
  },
  {
   "cell_type": "code",
   "execution_count": null,
   "metadata": {},
   "outputs": [],
   "source": []
  }
 ],
 "metadata": {
  "kernelspec": {
   "display_name": "Python 3",
   "language": "python",
   "name": "python3"
  },
  "language_info": {
   "codemirror_mode": {
    "name": "ipython",
    "version": 3
   },
   "file_extension": ".py",
   "mimetype": "text/x-python",
   "name": "python",
   "nbconvert_exporter": "python",
   "pygments_lexer": "ipython3",
   "version": "3.6.10"
  }
 },
 "nbformat": 4,
 "nbformat_minor": 4
}
